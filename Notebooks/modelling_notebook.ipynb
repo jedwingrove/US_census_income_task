{
 "cells": [
  {
   "cell_type": "code",
   "execution_count": 1,
   "metadata": {},
   "outputs": [],
   "source": [
    "import os\n",
    "import pandas as pd\n",
    "import numpy as np\n",
    "import matplotlib.pyplot as plt\n",
    "%matplotlib inline\n",
    "import seaborn as sns\n",
    "pd.set_option('display.max_columns', None)"
   ]
  },
  {
   "cell_type": "code",
   "execution_count": 2,
   "metadata": {},
   "outputs": [
    {
     "name": "stdout",
     "output_type": "stream",
     "text": [
      "census_income_additional_info.pdf\n",
      "census_income_learn.csv\n",
      "census_income_learn_ready_for_modelling.csv\n",
      "census_income_metadata.txt\n",
      "census_income_test.csv\n"
     ]
    },
    {
     "data": {
      "text/plain": [
       "TARGET_bin                             int64\n",
       "Age                                    int64\n",
       "Male                                   int64\n",
       "Married                                int64\n",
       "Race_white                             int64\n",
       "Education_Grade-school               float64\n",
       "Education_Graduate                   float64\n",
       "Education_HS-grad                    float64\n",
       "Education_HS-nongrad                 float64\n",
       "Employment_Government                float64\n",
       "Employment_Not in paid employment    float64\n",
       "Employment_Private                   float64\n",
       "Employment_Self-employed             float64\n",
       "Parents_birth                          int64\n",
       "dtype: object"
      ]
     },
     "execution_count": 2,
     "metadata": {},
     "output_type": "execute_result"
    }
   ],
   "source": [
    "# load the cleaned and processed data\n",
    "os.chdir('/Users/jed/Documents/JED/Dataiku/drive-download-20250106T224222Z-001')\n",
    "!ls\n",
    "#load the train and test datasets into pandas df\n",
    "train_data=pd.read_csv('census_income_learn_ready_for_modelling.csv')\n",
    "train_data.drop('Unnamed: 0', axis=1, inplace=True)\n",
    "train_data.describe()\n",
    "train_data.dtypes"
   ]
  },
  {
   "cell_type": "code",
   "execution_count": 3,
   "metadata": {},
   "outputs": [
    {
     "data": {
      "text/plain": [
       "Label                                int64\n",
       "Age                                  int64\n",
       "Male                                 int64\n",
       "Married                              int64\n",
       "Race_white                           int64\n",
       "Education_Grade-school               int64\n",
       "Education_Graduate                   int64\n",
       "Education_HS-grad                    int64\n",
       "Education_HS-nongrad                 int64\n",
       "Employment_Government                int64\n",
       "Employment_Not in paid employment    int64\n",
       "Employment_Private                   int64\n",
       "Employment_Self-employed             int64\n",
       "Parents_birth                        int64\n",
       "dtype: object"
      ]
     },
     "execution_count": 3,
     "metadata": {},
     "output_type": "execute_result"
    }
   ],
   "source": [
    "# convert float columns to integers\n",
    "df=train_data.copy()\n",
    "float_cols = df.select_dtypes(include='float').columns \n",
    "df[float_cols] = df[float_cols].astype(int)  \n",
    "#rename label col\n",
    "df = df.rename(columns={'TARGET_bin': 'Label'})\n",
    "df.dtypes"
   ]
  },
  {
   "cell_type": "code",
   "execution_count": null,
   "metadata": {},
   "outputs": [],
   "source": []
  },
  {
   "cell_type": "code",
   "execution_count": null,
   "metadata": {},
   "outputs": [],
   "source": [
    "from sklearn.preprocessing import StandardScaler\n",
    "\n",
    "y=df['Label']\n",
    "X=df.drop('Label', axis=1)\n",
    "\n"
   ]
  }
 ],
 "metadata": {
  "kernelspec": {
   "display_name": "Python 3",
   "language": "python",
   "name": "python3"
  },
  "language_info": {
   "codemirror_mode": {
    "name": "ipython",
    "version": 3
   },
   "file_extension": ".py",
   "mimetype": "text/x-python",
   "name": "python",
   "nbconvert_exporter": "python",
   "pygments_lexer": "ipython3",
   "version": "3.11.3"
  }
 },
 "nbformat": 4,
 "nbformat_minor": 2
}
