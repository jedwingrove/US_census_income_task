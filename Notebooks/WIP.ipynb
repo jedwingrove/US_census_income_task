{
 "cells": [
  {
   "cell_type": "code",
   "execution_count": 1,
   "metadata": {},
   "outputs": [],
   "source": [
    "import os\n",
    "import pandas as pd\n",
    "import numpy as np\n",
    "import matplotlib.pyplot as plt\n",
    "%matplotlib inline\n",
    "import seaborn as sns\n",
    "pd.set_option('display.max_columns', None)"
   ]
  },
  {
   "cell_type": "code",
   "execution_count": 2,
   "metadata": {},
   "outputs": [
    {
     "name": "stdout",
     "output_type": "stream",
     "text": [
      "census_income_additional_info.pdf census_income_metadata.txt\n",
      "census_income_learn.csv           census_income_test.csv\n"
     ]
    }
   ],
   "source": [
    "os.chdir('/Users/jed/Documents/JED/Dataiku/drive-download-20250106T224222Z-001')\n",
    "!ls"
   ]
  },
  {
   "cell_type": "code",
   "execution_count": 3,
   "metadata": {},
   "outputs": [],
   "source": [
    "#load the train and test datasets into pandas df\n",
    "train_data=pd.read_csv('census_income_learn.csv', header=None)\n",
    "test_data=pd.read_csv('census_income_test.csv', header=None)\n"
   ]
  },
  {
   "cell_type": "code",
   "execution_count": 4,
   "metadata": {},
   "outputs": [
    {
     "name": "stdout",
     "output_type": "stream",
     "text": [
      "Both train and test datasets have same no. of columns: 42\n",
      "n=  199523  for the training dataset\n",
      "n=  99762  for the testing dataset\n"
     ]
    }
   ],
   "source": [
    "if len(train_data.columns) == len(test_data.columns):\n",
    "    print('Both train and test datasets have same no. of columns:', len(test_data.columns))\n",
    "\n",
    "# There are no column/feature names, will need to add these from metadata.txt file\n",
    "print('n= ', len(train_data), ' for the training dataset') \n",
    "print('n= ', len(test_data), ' for the testing dataset') "
   ]
  },
  {
   "cell_type": "code",
   "execution_count": 5,
   "metadata": {},
   "outputs": [
    {
     "name": "stdout",
     "output_type": "stream",
     "text": [
      "Column names have been added to the train and test datasets\n"
     ]
    }
   ],
   "source": [
    "# need to add column names from metadata.txt file\n",
    "column_names=['AAGE',\n",
    " 'ACLSWKR',\n",
    " 'ADTIND',\n",
    " 'ADTOCC',\n",
    " 'AGI',\n",
    " 'AHGA',\n",
    " 'AHRSPAY',\n",
    " 'AHSCOL',\n",
    " 'AMARITL',\n",
    " 'AMJIND',\n",
    " 'AMJOCC',\n",
    " 'ARACE',\n",
    " 'AREORGN',\n",
    " 'ASEX',\n",
    " 'AUNMEM',\n",
    " 'AUNTYPE',\n",
    " 'AWKSTAT',\n",
    " 'CAPGAIN',\n",
    " 'CAPLOSS',\n",
    " 'DIVVAL',\n",
    " 'FEDTAX',\n",
    " 'FILESTAT',\n",
    " 'GRINREG',\n",
    " 'GRINST',\n",
    " 'HHDFMX',\n",
    " 'HHDREL',\n",
    " 'MARSUPWT',\n",
    " 'MIGMTR1',\n",
    " 'MIGMTR2',\n",
    " 'MIGMTR4',\n",
    " 'MIGSAME',\n",
    " 'MIGSUN',\n",
    " 'NOEMP',\n",
    " 'PARENT',\n",
    " 'PEARNVAL',\n",
    " 'PEFNTVTY',\n",
    " 'PEMNTVTY',\n",
    " 'PENATVTY',\n",
    " 'PRCITSHP',\n",
    " 'PTOTVAL',\n",
    " 'SEOTR',\n",
    " 'TAXINC',\n",
    " 'VETQVA',\n",
    " 'VETYN',\n",
    " 'WKSWORK']\n",
    "\n",
    "# AGI column is adjusted gross income, which should be removed as it is the target feature\n",
    "# so should FEDTAX, PERNVAL, PTOTVAL all earning related columns \n",
    "# year of survey completion column name is missing from the txt file but is in the df\n",
    "cols_to_remove=['AGI', 'FEDTAX','PEARNVAL','PTOTVAL','TAXINC', ]\n",
    "\n",
    "for col in cols_to_remove:\n",
    "    if col in column_names:\n",
    "        column_names.remove(col)\n",
    "\n",
    "column_names = column_names + ['YEAROFSUR']\n",
    "\n",
    "# # assigned TARGET as the last column\n",
    "column_names=column_names+['TARGET']\n",
    "\n",
    "train_data.columns=column_names\n",
    "test_data.columns=column_names\n",
    "\n",
    "# # make the target variable binary as this is a binary classification task\n",
    "train_data['TARGET_bin']=np.where(train_data.TARGET==' 50000+.',1,0)\n",
    "test_data['TARGET_bin']=np.where(test_data.TARGET==' 50000+.',1,0)\n",
    "\n",
    "# drop the original target variable\n",
    "train_data.drop('TARGET', axis=1, inplace=True)\n",
    "test_data.drop('TARGET', axis=1, inplace=True)\n",
    "if len(column_names)== len(train_data.columns) == len(test_data.columns):\n",
    "    print('Column names have been added to the train and test datasets')"
   ]
  },
  {
   "cell_type": "code",
   "execution_count": null,
   "metadata": {},
   "outputs": [],
   "source": []
  }
 ],
 "metadata": {
  "kernelspec": {
   "display_name": "Python 3",
   "language": "python",
   "name": "python3"
  },
  "language_info": {
   "codemirror_mode": {
    "name": "ipython",
    "version": 3
   },
   "file_extension": ".py",
   "mimetype": "text/x-python",
   "name": "python",
   "nbconvert_exporter": "python",
   "pygments_lexer": "ipython3",
   "version": "3.11.3"
  }
 },
 "nbformat": 4,
 "nbformat_minor": 2
}
