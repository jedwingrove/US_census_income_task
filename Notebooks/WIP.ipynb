{
 "cells": [
  {
   "cell_type": "code",
   "execution_count": 1,
   "metadata": {},
   "outputs": [],
   "source": [
    "import os\n",
    "import pandas as pd\n",
    "import numpy as np\n",
    "import matplotlib.pyplot as plt\n",
    "%matplotlib inline\n",
    "import seaborn as sns\n",
    "pd.set_option('display.max_columns', None)"
   ]
  },
  {
   "cell_type": "code",
   "execution_count": 2,
   "metadata": {},
   "outputs": [
    {
     "name": "stdout",
     "output_type": "stream",
     "text": [
      "census_income_additional_info.pdf census_income_metadata.txt\n",
      "census_income_learn.csv           census_income_test.csv\n"
     ]
    }
   ],
   "source": [
    "os.chdir('/Users/jed/Documents/JED/Dataiku/drive-download-20250106T224222Z-001')\n",
    "!ls"
   ]
  },
  {
   "cell_type": "code",
   "execution_count": 3,
   "metadata": {},
   "outputs": [],
   "source": [
    "#load the train and test datasets into pandas df\n",
    "train_data=pd.read_csv('census_income_learn.csv', header=None)\n",
    "test_data=pd.read_csv('census_income_test.csv', header=None)\n"
   ]
  },
  {
   "cell_type": "code",
   "execution_count": 4,
   "metadata": {},
   "outputs": [
    {
     "name": "stdout",
     "output_type": "stream",
     "text": [
      "Both train and test datasets have same no. of columns: 42\n",
      "n=  199523  for the training dataset\n",
      "n=  99762  for the testing dataset\n"
     ]
    }
   ],
   "source": [
    "if len(train_data.columns) == len(test_data.columns):\n",
    "    print('Both train and test datasets have same no. of columns:', len(test_data.columns))\n",
    "\n",
    "# There are no column/feature names, will need to add these from metadata.txt file\n",
    "print('n= ', len(train_data), ' for the training dataset') \n",
    "print('n= ', len(test_data), ' for the testing dataset') "
   ]
  },
  {
   "cell_type": "code",
   "execution_count": 5,
   "metadata": {},
   "outputs": [
    {
     "name": "stdout",
     "output_type": "stream",
     "text": [
      "Column names have been added to the train and test datasets\n"
     ]
    }
   ],
   "source": [
    "# need to add column names from metadata.txt file\n",
    "column_names=['AAGE',\n",
    " 'ACLSWKR',\n",
    " 'ADTIND',\n",
    " 'ADTOCC',\n",
    " 'AGI',\n",
    " 'AHGA',\n",
    " 'AHRSPAY',\n",
    " 'AHSCOL',\n",
    " 'AMARITL',\n",
    " 'AMJIND',\n",
    " 'AMJOCC',\n",
    " 'ARACE',\n",
    " 'AREORGN',\n",
    " 'ASEX',\n",
    " 'AUNMEM',\n",
    " 'AUNTYPE',\n",
    " 'AWKSTAT',\n",
    " 'CAPGAIN',\n",
    " 'CAPLOSS',\n",
    " 'DIVVAL',\n",
    " 'FEDTAX',\n",
    " 'FILESTAT',\n",
    " 'GRINREG',\n",
    " 'GRINST',\n",
    " 'HHDFMX',\n",
    " 'HHDREL',\n",
    " 'MARSUPWT',\n",
    " 'MIGMTR1',\n",
    " 'MIGMTR2',\n",
    " 'MIGMTR4',\n",
    " 'MIGSAME',\n",
    " 'MIGSUN',\n",
    " 'NOEMP',\n",
    " 'PARENT',\n",
    " 'PEARNVAL',\n",
    " 'PEFNTVTY',\n",
    " 'PEMNTVTY',\n",
    " 'PENATVTY',\n",
    " 'PRCITSHP',\n",
    " 'PTOTVAL',\n",
    " 'SEOTR',\n",
    " 'TAXINC',\n",
    " 'VETQVA',\n",
    " 'VETYN',\n",
    " 'WKSWORK']\n",
    "\n",
    "# AGI column is adjusted gross income, which should be removed as it is the target feature\n",
    "# so should FEDTAX, PERNVAL, PTOTVAL all earning related columns \n",
    "# year of survey completion column name is missing from the txt file but is in the df\n",
    "cols_to_remove=['AGI', 'FEDTAX','PEARNVAL','PTOTVAL','TAXINC', ]\n",
    "\n",
    "for col in cols_to_remove:\n",
    "    if col in column_names:\n",
    "        column_names.remove(col)\n",
    "\n",
    "column_names = column_names + ['YEAROFSUR']\n",
    "\n",
    "# # assigned TARGET as the last column\n",
    "column_names=column_names+['TARGET']\n",
    "\n",
    "train_data.columns=column_names\n",
    "test_data.columns=column_names\n",
    "\n",
    "# # make the target variable binary as this is a binary classification task\n",
    "train_data['TARGET_bin']=np.where(train_data.TARGET==' 50000+.',1,0)\n",
    "test_data['TARGET_bin']=np.where(test_data.TARGET==' 50000+.',1,0)\n",
    "\n",
    "# drop the original target variable\n",
    "train_data.drop('TARGET', axis=1, inplace=True)\n",
    "test_data.drop('TARGET', axis=1, inplace=True)\n",
    "if len(column_names)== len(train_data.columns) == len(test_data.columns):\n",
    "    print('Column names have been added to the train and test datasets')"
   ]
  },
  {
   "cell_type": "markdown",
   "metadata": {},
   "source": [
    "## Cleaning Data: removing duplicates, conflicting samples, outlier detection, missing data"
   ]
  },
  {
   "cell_type": "code",
   "execution_count": 6,
   "metadata": {},
   "outputs": [
    {
     "name": "stdout",
     "output_type": "stream",
     "text": [
      "---- Training data ----\n",
      "no. of duplicated samples =  46627\n",
      "---- Test data ----\n",
      "no. of duplicated samples =  20898\n",
      "---- Before removing dupes ----\n",
      "Train: n= 199523 Test: n= 99762\n",
      "---- After removing dupes ----\n",
      "Train: n= 152896 Test: n= 78864\n"
     ]
    }
   ],
   "source": [
    "# the metadata file describes a number of duplicated data points. Remove before continuing\n",
    "# first step is to drop the weight column MARSUPWT as this is unique to each sample and will \n",
    "# influence the duplicate check\n",
    "\n",
    "# check for duplicates in the training data\n",
    "\n",
    "train_data=train_data.drop('MARSUPWT', axis=1)\n",
    "dupes=train_data[train_data.duplicated(keep='first')]\n",
    "print('---- Training data ----')\n",
    "print('no. of duplicated samples = ',len(dupes))\n",
    "\n",
    "\n",
    "# notice that the no. of duplicated samlpes without keeping the weight values is 10 times greater. By chance, the\n",
    "# other features were similiar. \n",
    "\n",
    "# test data\n",
    "test_data=test_data.drop('MARSUPWT', axis=1)\n",
    "dupes=test_data[test_data.duplicated(keep='first')]\n",
    "print('---- Test data ----')\n",
    "print('no. of duplicated samples = ',len(dupes))\n",
    "\n",
    "\n",
    "print('---- Before removing dupes ----')\n",
    "print('Train: n=', len(train_data), 'Test: n=',  len(test_data))\n",
    "# save the cleaned datasets\n",
    "train_data=train_data.drop_duplicates()\n",
    "test_data=test_data.drop_duplicates()\n",
    "\n",
    "print('---- After removing dupes ----')\n",
    "print('Train: n=', len(train_data), 'Test: n=',  len(test_data))\n",
    "\n",
    "# train_data.to_csv('train_data_dupes_removed.csv', index=False)\n",
    "# test_data.to_csv('test_data_dupes_removed.csv', index=False)"
   ]
  },
  {
   "cell_type": "code",
   "execution_count": 7,
   "metadata": {},
   "outputs": [
    {
     "name": "stdout",
     "output_type": "stream",
     "text": [
      "---- Training Data ----\n",
      "no. of conflicting instances = 178\n",
      "no. of samples after dropping conflicts =  152807\n",
      "---- Testing Data ----\n",
      "no. of conflicting instances = 76\n",
      "no. of samples after dropping conflicts =  78826\n"
     ]
    }
   ],
   "source": [
    "# Metadat txt file said there are moore conflicting instances in the dataset.\n",
    "# checking for samples where all features are the same but the target variable is different\n",
    "print('---- Training Data ----')\n",
    "df=train_data.copy()\n",
    "# Identify conflicting instances\n",
    "conflicting_instances = df[df.duplicated(subset=df.columns.difference(['TARGET_bin']), keep=False)]\n",
    "print('no. of conflicting instances =',len(conflicting_instances))\n",
    "\n",
    "# drop all conflicting instances, not enough information to decide which one to keep\n",
    "df.drop_duplicates(subset=df.columns.difference(['TARGET_bin']), keep='first', inplace=True)\n",
    "print('no. of samples after dropping conflicts = ',len(df))\n",
    "\n",
    "train_data=df.copy()\n",
    "\n",
    "print('---- Testing Data ----')\n",
    "df=test_data.copy()\n",
    "# Identify conflicting instances\n",
    "conflicting_instances = df[df.duplicated(subset=df.columns.difference(['TARGET_bin']), keep=False)]\n",
    "print('no. of conflicting instances =',len(conflicting_instances))\n",
    "\n",
    "# drop all conflicting instances, not enough information to decide which one to keep\n",
    "df.drop_duplicates(subset=df.columns.difference(['TARGET_bin']), keep='first', inplace=True)\n",
    "print('no. of samples after dropping conflicts = ',len(df))\n",
    "test_data=df.copy()"
   ]
  },
  {
   "cell_type": "markdown",
   "metadata": {},
   "source": [
    "### Outlier detection for continuous variables \n",
    "Age, Hours Worked, Weeks Worked"
   ]
  },
  {
   "cell_type": "code",
   "execution_count": 8,
   "metadata": {},
   "outputs": [],
   "source": [
    "# save high earner and low earner data as sperate datasets to help with EDA\n",
    "high_earner_data=train_data[train_data['TARGET_bin']==1]\n",
    "low_earner_data=train_data[train_data['TARGET_bin']==0]"
   ]
  },
  {
   "cell_type": "code",
   "execution_count": 12,
   "metadata": {},
   "outputs": [
    {
     "ename": "SyntaxError",
     "evalue": "invalid syntax. Maybe you meant '==' or ':=' instead of '='? (1050189762.py, line 1)",
     "output_type": "error",
     "traceback": [
      "\u001b[0;36m  Cell \u001b[0;32mIn[12], line 1\u001b[0;36m\u001b[0m\n\u001b[0;31m    box_params={patch_artist=True,  # Allows custom coloring\u001b[0m\n\u001b[0m                ^\u001b[0m\n\u001b[0;31mSyntaxError\u001b[0m\u001b[0;31m:\u001b[0m invalid syntax. Maybe you meant '==' or ':=' instead of '='?\n"
     ]
    }
   ],
   "source": [
    "box_params=\n",
    "{patch_artist=True,  # Allows custom coloring\n",
    "boxprops=dict(facecolor='lightblue', color='blue', linewidth=2),\n",
    "whiskerprops=dict(color='black', linewidth=2),\n",
    "capprops=dict(color='black', linewidth=2),\n",
    "medianprops=dict(color='red', linewidth=2),\n",
    "flierprops=dict(marker='o', color='darkred', alpha=0.6),\n",
    "widths=0.6}"
   ]
  },
  {
   "cell_type": "code",
   "execution_count": 18,
   "metadata": {},
   "outputs": [
    {
     "data": {
      "image/png": "[encoded data removed]",
      "text/plain": [
       "<Figure size 640x480 with 1 Axes>"
      ]
     },
     "metadata": {},
     "output_type": "display_data"
    },
    {
     "data": {
      "image/png": "[encoded data removed]",
      "text/plain": [
       "<Figure size 640x480 with 1 Axes>"
      ]
     },
     "metadata": {},
     "output_type": "display_data"
    }
   ],
   "source": [
    "# check for outliers the dataset\n",
    "feature='AAGE'\n",
    "train_age=train_data[feature]\n",
    "test_age=test_data[feature]\n",
    "boxplot_settings = {\n",
    "    'patch_artist': True,  # Allows custom coloring\n",
    "    'boxprops': dict(facecolor='darkseagreen', color='darkseagreen', linewidth=1),\n",
    "    'whiskerprops': dict(color='darkseagreen', linewidth=2),\n",
    "    'capprops': dict(color='darkseagreen', linewidth=2),\n",
    "    'medianprops': dict(color='salmon', linewidth=2),\n",
    "    'flierprops': dict(marker='o', color='lightseagreen', alpha=0.6),\n",
    "    'widths': 0.6\n",
    "}\n",
    "\n",
    "\n",
    "plt.boxplot([train_age, test_age], labels=['Train', 'Test'], vert=False, **boxplot_settings)\n",
    "plt.title('Age distribution in train and test datasets')\n",
    "plt.grid(axis='x', linestyle='--', alpha=0.7)\n",
    "plt.show()\n",
    "\n",
    "# check for outliers in the high and low earner datasets\n",
    "plt.boxplot([high_earner_data[feature], low_earner_data[feature]], labels=['High Earner', 'Low earner'], vert=False, **boxplot_settings)\n",
    "plt.title('Age distribution in train datasets between earner groups')\n",
    "plt.grid(axis='x', linestyle='--', alpha=0.7)\n",
    "plt.show()\n",
    "\n",
    "# few outliers when looking at labels, I think it's ok\n",
    "# leave for now, but can be removed using the code below if needed (TukeyIQR)\n",
    "\n",
    "# label_age=np.array(train_data['AAGE'])\n",
    "# q3 = np.percentile(label_age, 75)\n",
    "# q1 = np.percentile(label_age, 25)\n",
    "# iqr = q3 - q1\n",
    "\n",
    "# ceiling = q3 + 1.5*iqr\n",
    "# outliers = label_age[label_age > ceiling]\n",
    "# print('Outliers: ', outliers)"
   ]
  },
  {
   "cell_type": "code",
   "execution_count": null,
   "metadata": {},
   "outputs": [],
   "source": []
  }
 ],
 "metadata": {
  "kernelspec": {
   "display_name": "Python 3",
   "language": "python",
   "name": "python3"
  },
  "language_info": {
   "codemirror_mode": {
    "name": "ipython",
    "version": 3
   },
   "file_extension": ".py",
   "mimetype": "text/x-python",
   "name": "python",
   "nbconvert_exporter": "python",
   "pygments_lexer": "ipython3",
   "version": "3.11.3"
  }
 },
 "nbformat": 4,
 "nbformat_minor": 2
}
