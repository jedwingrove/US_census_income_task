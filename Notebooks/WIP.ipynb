{
 "cells": [
  {
   "cell_type": "code",
   "execution_count": 1,
   "metadata": {},
   "outputs": [],
   "source": [
    "import os\n",
    "import pandas as pd\n",
    "import numpy as np\n",
    "import matplotlib.pyplot as plt\n",
    "%matplotlib inline\n",
    "import seaborn as sns\n",
    "pd.set_option('display.max_columns', None)"
   ]
  },
  {
   "cell_type": "code",
   "execution_count": 2,
   "metadata": {},
   "outputs": [
    {
     "name": "stdout",
     "output_type": "stream",
     "text": [
      "census_income_additional_info.pdf census_income_metadata.txt\n",
      "census_income_learn.csv           census_income_test.csv\n"
     ]
    }
   ],
   "source": [
    "os.chdir('/Users/jed/Documents/JED/Dataiku/drive-download-20250106T224222Z-001')\n",
    "!ls"
   ]
  },
  {
   "cell_type": "code",
   "execution_count": 3,
   "metadata": {},
   "outputs": [],
   "source": [
    "#load the train and test datasets into pandas df\n",
    "train_data=pd.read_csv('census_income_learn.csv', header=None)\n",
    "test_data=pd.read_csv('census_income_test.csv', header=None)\n"
   ]
  },
  {
   "cell_type": "code",
   "execution_count": 4,
   "metadata": {},
   "outputs": [
    {
     "name": "stdout",
     "output_type": "stream",
     "text": [
      "Both train and test datasets have same no. of columns: 42\n",
      "n=  199523  for the training dataset\n",
      "n=  99762  for the testing dataset\n"
     ]
    }
   ],
   "source": [
    "if len(train_data.columns) == len(test_data.columns):\n",
    "    print('Both train and test datasets have same no. of columns:', len(test_data.columns))\n",
    "\n",
    "# There are no column/feature names, will need to add these from metadata.txt file\n",
    "print('n= ', len(train_data), ' for the training dataset') \n",
    "print('n= ', len(test_data), ' for the testing dataset') "
   ]
  },
  {
   "cell_type": "code",
   "execution_count": null,
   "metadata": {},
   "outputs": [],
   "source": []
  }
 ],
 "metadata": {
  "kernelspec": {
   "display_name": "Python 3",
   "language": "python",
   "name": "python3"
  },
  "language_info": {
   "codemirror_mode": {
    "name": "ipython",
    "version": 3
   },
   "file_extension": ".py",
   "mimetype": "text/x-python",
   "name": "python",
   "nbconvert_exporter": "python",
   "pygments_lexer": "ipython3",
   "version": "3.11.3"
  }
 },
 "nbformat": 4,
 "nbformat_minor": 2
}
